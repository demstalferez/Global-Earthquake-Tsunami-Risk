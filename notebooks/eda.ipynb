{
 "cells": [
  {
   "cell_type": "code",
   "execution_count": null,
   "id": "876758fe",
   "metadata": {},
   "outputs": [],
   "source": [
    "# Importación de librerías necesarias para análisis exploratorio\n",
    "import pandas as pd\n",
    "import numpy as np\n",
    "import seaborn as sns\n",
    "import matplotlib.pyplot as plt\n",
    "import plotly.express as px\n",
    "from scipy import stats\n",
    "import plotly.graph_objects as go"
   ]
  },
  {
   "cell_type": "markdown",
   "id": "d511bd23",
   "metadata": {},
   "source": [
    "## 📊 Carga y Exploración Inicial de Datos"
   ]
  },
  {
   "cell_type": "code",
   "execution_count": null,
   "id": "0166fc21",
   "metadata": {},
   "outputs": [],
   "source": [
    "# Carga del dataset de terremotos con información de tsunamis\n",
    "df = pd.read_csv('/Users/demstalfer/Documents/GitHub/Global-Earthquake-Tsunami-Risk/data/earthquake_data_tsunami.csv')"
   ]
  },
  {
   "cell_type": "code",
   "execution_count": null,
   "id": "60b68f7f",
   "metadata": {},
   "outputs": [],
   "source": [
    "# Visualización de las primeras filas del dataset\n",
    "df.head()"
   ]
  },
  {
   "cell_type": "code",
   "execution_count": null,
   "id": "18e3219a",
   "metadata": {},
   "outputs": [],
   "source": [
    "# Estadísticas descriptivas del dataset\n",
    "df.describe().T"
   ]
  },
  {
   "cell_type": "markdown",
   "id": "990f4e57",
   "metadata": {},
   "source": [
    "## 📈 Análisis de Distribuciones de Variables"
   ]
  },
  {
   "cell_type": "code",
   "execution_count": null,
   "id": "d464ecbf",
   "metadata": {},
   "outputs": [],
   "source": [
    "# Visualización de distribuciones de todas las variables numéricas\n",
    "cols = df.columns.to_list()\n",
    "cols.remove('tsunami')\n",
    "\n",
    "n_cols = 3\n",
    "n_rows = int(np.ceil(len(cols) / n_cols))\n",
    "\n",
    "fig, axes = plt.subplots(n_rows, n_cols, figsize=(18, n_rows * 4))\n",
    "\n",
    "for i, col in enumerate(cols):\n",
    "    ax = axes[i // n_cols, i % n_cols]\n",
    "    sns.histplot(df[col], bins=30, kde=True, ax=ax)\n",
    "    ax.set_title(f'Distribution of {col}')\n",
    "    ax.set_xlabel(col)\n",
    "    ax.set_ylabel('Frequency')\n",
    "\n",
    "plt.tight_layout()\n",
    "plt.show()"
   ]
  },
  {
   "cell_type": "code",
   "execution_count": null,
   "id": "9ac14f17",
   "metadata": {},
   "outputs": [],
   "source": [
    "# Test de normalidad Shapiro-Wilk para cada variable\n",
    "for col in cols:\n",
    "    data = df[col].dropna()\n",
    "    stat, p_value = stats.shapiro(data.sample(min(5000, len(data))))\n",
    "    print(f'Shapiro-Wilk test for {col}: stat={stat:.4f}, p-value={p_value:.4f}')\n",
    "    if p_value > 0.05:\n",
    "        print(f'{col} is likely normally distributed (fail to reject H0)')\n",
    "    else:\n",
    "        print(f'{col} is likely not normally distributed (reject H0)')"
   ]
  },
  {
   "cell_type": "markdown",
   "id": "5f716c80",
   "metadata": {},
   "source": [
    "## \udd17 Análisis de Correlaciones"
   ]
  },
  {
   "cell_type": "code",
   "execution_count": null,
   "id": "1568bad0",
   "metadata": {},
   "outputs": [],
   "source": [
    "# Matriz de correlación de Spearman para variables numéricas\n",
    "corr = df[cols].corr(method='spearman')\n",
    "plt.figure(figsize=(12, 6))\n",
    "sns.heatmap(corr, annot=True, fmt=\".2f\", cmap='coolwarm', square=True)\n",
    "plt.title('Spearman Correlation Matrix')\n",
    "plt.show()"
   ]
  },
  {
   "cell_type": "markdown",
   "id": "90aef8a2",
   "metadata": {},
   "source": [
    "## 🗺️ Análisis Geoespacial de Terremotos y Tsunamis"
   ]
  },
  {
   "cell_type": "code",
   "execution_count": null,
   "id": "c784c12a",
   "metadata": {},
   "outputs": [],
   "source": [
    "# Verificación de columnas disponibles en el dataset\n",
    "df.columns"
   ]
  },
  {
   "cell_type": "markdown",
   "id": "8c437a5f",
   "metadata": {},
   "source": [
    "### TODO PALETAS DE COLORES UNIFICADA"
   ]
  },
  {
   "cell_type": "markdown",
   "id": "180e80cf",
   "metadata": {},
   "source": [
    "### Distribución Global de Terremotos por Magnitud"
   ]
  },
  {
   "cell_type": "code",
   "execution_count": null,
   "id": "66f084c5",
   "metadata": {},
   "outputs": [],
   "source": [
    "# Mapa interactivo global de terremotos coloreado por magnitud\n",
    "fig = px.scatter_geo(\n",
    "    df,\n",
    "    lat='latitude',\n",
    "    lon='longitude',\n",
    "    color='magnitude',\n",
    "    hover_data=['depth', 'tsunami', 'sig', 'dmin'],\n",
    "    projection='natural earth',\n",
    "    size= 'sig',\n",
    "    title='Global Earthquake Distribution by Magnitude'\n",
    ")\n",
    "\n",
    "# Configuración visual del mapa con tema oscuro\n",
    "fig.update_layout(\n",
    "    paper_bgcolor='black',\n",
    "    plot_bgcolor='black',\n",
    "    font=dict(color='white'),\n",
    "    title=dict(font=dict(color='white')),\n",
    "    height=750,\n",
    "    width=1300,\n",
    "    margin=dict(l=0, r=0, t=50, b=0)\n",
    ")\n",
    "\n",
    "fig.update_geos(\n",
    "    showland=True,\n",
    "    landcolor='LightGreen',\n",
    "    showcountries=True,\n",
    "    countrycolor='Gray',\n",
    "    showcoastlines=True,\n",
    "    coastlinecolor='white',\n",
    "    showocean=True,\n",
    "    oceancolor='black',\n",
    "    bgcolor='black',\n",
    "    projection_type='natural earth',\n",
    "    projection_scale=1.3,        # Amplía el mapa\n",
    "    fitbounds=\"locations\"        # Ajusta para ocupar más espacio\n",
    ")\n",
    "\n",
    "fig.update_coloraxes(colorbar=dict(title=dict(font=dict(color='white')), tickfont=dict(color='white')))\n",
    "\n",
    "fig.show()"
   ]
  },
  {
   "cell_type": "markdown",
   "id": "fc5a7063",
   "metadata": {},
   "source": [
    "### Mapa 1: Tsunamis vs Profundidad del Epicentro"
   ]
  },
  {
   "cell_type": "code",
   "execution_count": null,
   "id": "a84f6c09",
   "metadata": {},
   "outputs": [],
   "source": [
    "# Análisis crítico: relación entre generación de tsunamis y profundidad del terremoto\n",
    "fig1 = px.scatter_geo(\n",
    "    df,\n",
    "    lat='latitude',\n",
    "    lon='longitude',\n",
    "    color='tsunami',\n",
    "    size='depth',\n",
    "    hover_data=['magnitude', 'depth', 'sig', 'Year'],\n",
    "    color_discrete_map={0: 'lightblue', 1: 'red'},\n",
    "    title='🌊 Mapa Crítico: Tsunamis vs Profundidad del Epicentro',\n",
    "    labels={'tsunami': 'Tsunami Generated', 'depth': 'Depth (km)'}\n",
    ")\n",
    "\n",
    "fig1.update_layout(\n",
    "    paper_bgcolor='black',\n",
    "    plot_bgcolor='black',\n",
    "    font=dict(color='white', size=12),\n",
    "    title=dict(font=dict(color='white', size=16)),\n",
    "    height=700,\n",
    "    width=1200\n",
    ")\n",
    "\n",
    "fig1.update_geos(\n",
    "    showland=True, landcolor='darkgreen',\n",
    "    showcountries=True, countrycolor='gray',\n",
    "    showcoastlines=True, coastlinecolor='white',\n",
    "    showocean=True, oceancolor='darkblue',\n",
    "    bgcolor='black'\n",
    ")\n",
    "\n",
    "fig1.show()"
   ]
  },
  {
   "cell_type": "markdown",
   "id": "7ae6ea56",
   "metadata": {},
   "source": [
    "### Mapa 2: Zonas de Alto Riesgo (Ring of Fire)"
   ]
  },
  {
   "cell_type": "code",
   "execution_count": null,
   "id": "f4be4158",
   "metadata": {},
   "outputs": [],
   "source": [
    "# Identificación de patrones geográficos en el Cinturón de Fuego del Pacífico\n",
    "fig2 = px.scatter_geo(\n",
    "    df,\n",
    "    lat='latitude',\n",
    "    lon='longitude',\n",
    "    color='magnitude',\n",
    "    size='sig',\n",
    "    symbol='tsunami',\n",
    "    hover_data=['depth', 'Year', 'cdi'],\n",
    "    color_continuous_scale='Viridis',\n",
    "    symbol_map={0: 'circle', 1: 'diamond'},\n",
    "    title='🔥 Ring of Fire: Zonas de Alto Riesgo Tsunamigénico',\n",
    "    labels={'magnitude': 'Magnitude', 'sig': 'Significance'}\n",
    ")\n",
    "\n",
    "fig2.update_layout(\n",
    "    paper_bgcolor='black',\n",
    "    plot_bgcolor='black',\n",
    "    font=dict(color='white', size=12),\n",
    "    title=dict(font=dict(color='white', size=16)),\n",
    "    height=700,\n",
    "    width=1200\n",
    ")\n",
    "\n",
    "fig2.update_geos(\n",
    "    showland=True, landcolor='saddlebrown',\n",
    "    showcountries=True, countrycolor='gray',\n",
    "    showcoastlines=True, coastlinecolor='yellow',\n",
    "    showocean=True, oceancolor='navy',\n",
    "    bgcolor='black',\n",
    "    projection_type='orthographic'\n",
    ")\n",
    "\n",
    "fig2.show()"
   ]
  },
  {
   "cell_type": "markdown",
   "id": "a222614a",
   "metadata": {},
   "source": [
    "### Mapa 3: Evolución Temporal del Riesgo"
   ]
  },
  {
   "cell_type": "code",
   "execution_count": null,
   "id": "ca2d8994",
   "metadata": {},
   "outputs": [],
   "source": [
    "# Análisis de patrones temporales en la ocurrencia de tsunamis (2001-2022)\n",
    "fig3 = px.scatter_geo(\n",
    "    df,\n",
    "    lat='latitude',\n",
    "    lon='longitude',\n",
    "    color='Year',\n",
    "    size='tsunami',\n",
    "    size_max=15,\n",
    "    hover_data=['magnitude', 'depth', 'sig'],\n",
    "    color_continuous_scale='plasma',\n",
    "    title='📅 Evolución Temporal: Patrones de Tsunamis 2001-2022',\n",
    "    labels={'Year': 'Year', 'tsunami': 'Tsunami Event'}\n",
    ")\n",
    "\n",
    "fig3.update_layout(\n",
    "    paper_bgcolor='black',\n",
    "    plot_bgcolor='black',\n",
    "    font=dict(color='white', size=12),\n",
    "    title=dict(font=dict(color='white', size=16)),\n",
    "    height=700,\n",
    "    width=1200\n",
    ")\n",
    "\n",
    "fig3.update_geos(\n",
    "    showland=True, landcolor='darkslategray',\n",
    "    showcountries=True, countrycolor='lightgray',\n",
    "    showcoastlines=True, coastlinecolor='cyan',\n",
    "    showocean=True, oceancolor='midnightblue',\n",
    "    bgcolor='black'\n",
    ")\n",
    "\n",
    "fig3.show()"
   ]
  },
  {
   "cell_type": "markdown",
   "id": "a5341f16",
   "metadata": {},
   "source": [
    "### Mapa 4: Calidad del Monitoreo Sísmico"
   ]
  },
  {
   "cell_type": "code",
   "execution_count": null,
   "id": "afc742d8",
   "metadata": {},
   "outputs": [],
   "source": [
    "# Evaluación de la cobertura y confiabilidad del monitoreo sísmico global\n",
    "fig4 = px.scatter_geo(\n",
    "    df,\n",
    "    lat='latitude',\n",
    "    lon='longitude',\n",
    "    color='nst',\n",
    "    size='dmin',\n",
    "    hover_data=['magnitude', 'gap', 'sig', 'tsunami'],\n",
    "    color_continuous_scale='RdYlGn',\n",
    "    title='🎯 Cobertura de Monitoreo: Estaciones vs Distancia',\n",
    "    labels={'nst': 'Stations Count', 'dmin': 'Min Distance (°)'}\n",
    ")\n",
    "\n",
    "fig4.update_layout(\n",
    "    paper_bgcolor='black',\n",
    "    plot_bgcolor='black',\n",
    "    font=dict(color='white', size=12),\n",
    "    title=dict(font=dict(color='white', size=16)),\n",
    "    height=700,\n",
    "    width=1200\n",
    ")\n",
    "\n",
    "fig4.update_geos(\n",
    "    showland=True, landcolor='olive',\n",
    "    showcountries=True, countrycolor='white',\n",
    "    showcoastlines=True, coastlinecolor='orange',\n",
    "    showocean=True, oceancolor='teal',\n",
    "    bgcolor='black'\n",
    ")\n",
    "\n",
    "fig4.show()"
   ]
  },
  {
   "cell_type": "markdown",
   "id": "ad889d6d",
   "metadata": {},
   "source": [
    "### Mapa 5: Significancia vs Impacto Real TODO, ARREGLAR ESTE MAPA"
   ]
  },
  {
   "cell_type": "code",
   "execution_count": null,
   "id": "faf26b20",
   "metadata": {},
   "outputs": [],
   "source": [
    "# Análisis de eventos significativos vs su impacto tsunamigénico real\n",
    "df['impact_level'] = df['cdi'].fillna(0)\n",
    "\n",
    "fig5 = px.scatter_geo(\n",
    "    df,\n",
    "    lat='latitude',\n",
    "    lon='longitude',\n",
    "    color='sig',\n",
    "    size='impact_level',\n",
    "    symbol='tsunami',\n",
    "    hover_data=['magnitude', 'depth', 'mmi', 'Year'],\n",
    "    color_continuous_scale='Hot',\n",
    "    symbol_map={0: 'circle-open', 1: 'star'},\n",
    "    title='⚡ Significancia vs Impacto: Eventos Críticos Identificados',\n",
    "    labels={'sig': 'Significance Score', 'impact_level': 'Community Impact'}\n",
    ")\n",
    "\n",
    "fig5.update_layout(\n",
    "    paper_bgcolor='black',\n",
    "    plot_bgcolor='black',\n",
    "    font=dict(color='white', size=12),\n",
    "    title=dict(font=dict(color='white', size=16)),\n",
    "    height=700,\n",
    "    width=1200\n",
    ")\n",
    "\n",
    "fig5.update_geos(\n",
    "    showland=True, landcolor='dimgray',\n",
    "    showcountries=True, countrycolor='silver',\n",
    "    showcoastlines=True, coastlinecolor='gold',\n",
    "    showocean=True, oceancolor='indigo',\n",
    "    bgcolor='black'\n",
    ")\n",
    "\n",
    "fig5.show()"
   ]
  },
  {
   "cell_type": "markdown",
   "id": "485d6137",
   "metadata": {},
   "source": [
    "### EDA MULTIVARIABLE"
   ]
  },
  {
   "cell_type": "code",
   "execution_count": null,
   "id": "8f85581c",
   "metadata": {},
   "outputs": [],
   "source": [
    "# MAG, PROFUNDIDAD , SIGNIFICANCIA --- TSUNAMI\n",
    "fig = px.scatter_3d(\n",
    "    df,\n",
    "    x='magnitude',\n",
    "    y='depth',\n",
    "    z='sig',\n",
    "    color='tsunami',\n",
    "    size='sig',\n",
    "    hover_data=['latitude', 'longitude', 'Year'],\n",
    "    color_discrete_map={0: 'lightblue', 1: 'red'},\n",
    "    title='🌊 Análisis Multivariable: Magnitud, Profundidad y Significancia vs Tsunami'\n",
    ")\n",
    "\n",
    "fig.update_layout(\n",
    "    paper_bgcolor='black',\n",
    "    plot_bgcolor='black',\n",
    "    font=dict(color='white', size=12),\n",
    "    title=dict(font=dict(color='white', size=16)),\n",
    "    height=700,\n",
    "    width=1000\n",
    ")\n",
    "\n",
    "fig.show()"
   ]
  },
  {
   "cell_type": "code",
   "execution_count": null,
   "id": "e2f90be2",
   "metadata": {},
   "outputs": [],
   "source": [
    "# mag , tsunami vs no tsu\n",
    "fig = px.box(\n",
    "    df,\n",
    "    x='tsunami',\n",
    "    y='magnitude',\n",
    "    color='tsunami',\n",
    "    color_discrete_map={0: 'lightblue', 1: 'red'},\n",
    "    title='🌊 Magnitud de Terremotos con y sin Tsunami'\n",
    ")\n",
    "fig.show()"
   ]
  },
  {
   "cell_type": "code",
   "execution_count": null,
   "id": "969030c4",
   "metadata": {},
   "outputs": [],
   "source": [
    "fig2 = go.Figure()\n",
    "fig2.add_trace(go.Histogram(\n",
    "    x=df[df['tsunami'] == 1]['magnitude'],\n",
    "    name='With Tsunami',\n",
    "    marker_color='red',\n",
    "    opacity=0.7\n",
    "))\n",
    "fig2.add_trace(go.Histogram(\n",
    "    x=df[df['tsunami'] == 0]['magnitude'],\n",
    "    name='Without Tsunami',\n",
    "    marker_color='lightblue',\n",
    "    opacity=0.7\n",
    "))\n",
    "\n",
    "fig2.update_layout(\n",
    "    title='🌊 Magnitud de Terremotos con y sin Tsunami - Histograma',\n",
    "    xaxis_title='Magnitude',\n",
    "    yaxis_title='Count',\n",
    "    barmode='overlay',\n",
    "    paper_bgcolor='black',\n",
    "    plot_bgcolor='black',\n",
    "    font=dict(color='white', size=12),\n",
    "    height=600,\n",
    "    width=900\n",
    ")\n",
    "fig2.update_traces(marker_line_width=1, marker_line_color='black')\n",
    "fig2.show()"
   ]
  },
  {
   "cell_type": "code",
   "execution_count": null,
   "id": "71dae3e7",
   "metadata": {},
   "outputs": [],
   "source": [
    "df.columns"
   ]
  },
  {
   "cell_type": "code",
   "execution_count": null,
   "id": "af971a09",
   "metadata": {},
   "outputs": [],
   "source": [
    "# pararel coordenadas\n",
    "fig = px.parallel_coordinates(\n",
    "    df.sample(min(500, len(df))), #cuidado con la ram, usar samples en muestras grandes\n",
    "    color='tsunami',\n",
    "    dimensions=['magnitude', 'depth', 'sig', 'nst', 'dmin'],\n",
    "    color_continuous_scale=px.colors.diverging.Tealrose,\n",
    "    color_continuous_midpoint=0.5,\n",
    "    title='🌊 Análisis Multivariable: Paralel Coordinates Plot'\n",
    ")\n",
    "fig.show()"
   ]
  },
  {
   "cell_type": "markdown",
   "id": "e3d12188",
   "metadata": {},
   "source": [
    "### TODO revisar 2001"
   ]
  },
  {
   "cell_type": "code",
   "execution_count": null,
   "id": "7191ecd3",
   "metadata": {},
   "outputs": [],
   "source": [
    "# Preparar datos agregados por año y mes con más métricas\n",
    "monthly_stats = df.groupby(['Year', 'Month', 'tsunami']).agg({\n",
    "    'magnitude': ['mean', 'max', 'count'],\n",
    "    'depth': 'mean',\n",
    "    'sig': 'mean'\n",
    "}).reset_index()\n",
    "\n",
    "# Aplanar columnas multinivel\n",
    "monthly_stats.columns = ['Year', 'Month', 'tsunami', 'magnitude_mean', 'magnitude_max', 'event_count', 'depth_mean', 'sig_mean']\n",
    "monthly_stats['Date'] = pd.to_datetime(monthly_stats[['Year', 'Month']].assign(day=1))\n",
    "monthly_stats['tsunami'] = monthly_stats['tsunami'].map({0: 'Sin Tsunami', 1: 'Con Tsunami'})\n",
    "\n",
    "# Crear estadísticas anuales para anotaciones\n",
    "yearly_summary = df.groupby('Year').agg({\n",
    "    'magnitude': 'count',\n",
    "    'tsunami': 'sum'\n",
    "}).reset_index()\n",
    "yearly_summary.columns = ['Year', 'total_events', 'tsunami_events']\n",
    "\n",
    "fig12 = px.bar(monthly_stats,\n",
    "               x='Date',\n",
    "               y='magnitude_mean',\n",
    "               color='tsunami',\n",
    "               animation_frame='Year',\n",
    "               color_discrete_map={'Sin Tsunami': 'blue', 'Con Tsunami': 'red'},\n",
    "               hover_data=['magnitude_max', 'event_count', 'depth_mean', 'sig_mean'],\n",
    "               title='📊 Evolución de Magnitud Promedio por Año (Animado)<br><sub>Incluye: Magnitud Máxima, Conteo de Eventos, Profundidad y Significancia</sub>',\n",
    "               labels={\n",
    "                   'magnitude_mean': 'Magnitud Promedio',\n",
    "                   'Date': 'Fecha',\n",
    "                   'magnitude_max': 'Magnitud Máxima',\n",
    "                   'event_count': 'Eventos',\n",
    "                   'depth_mean': 'Profundidad Promedio (km)',\n",
    "                   'sig_mean': 'Significancia Promedio'\n",
    "               },\n",
    "               range_y=[6, 8])\n",
    "\n",
    "# Mejorar diseño con información adicional\n",
    "fig12.update_layout(\n",
    "    paper_bgcolor='black',\n",
    "    plot_bgcolor='black',\n",
    "    font=dict(color='white', size=12),\n",
    "    height=700,\n",
    "    width=1200,\n",
    "    xaxis=dict(title='Mes', gridcolor='gray'),\n",
    "    yaxis=dict(title='Magnitud Promedio', gridcolor='gray'),\n",
    "    hovermode='x unified'\n",
    ")\n",
    "\n",
    "# Agregar anotación con estadísticas anuales en cada frame\n",
    "for frame in fig12.frames:\n",
    "    year = int(frame.name)\n",
    "    year_data = yearly_summary[yearly_summary['Year'] == year]\n",
    "    if not year_data.empty:\n",
    "        total = year_data['total_events'].values[0]\n",
    "        tsunamis = year_data['tsunami_events'].values[0]\n",
    "        frame.layout.update(\n",
    "            annotations=[{\n",
    "                'text': f'Año {year}<br>Total Eventos: {total}<br>Con Tsunami: {tsunamis} ({tsunamis/total*100:.1f}%)',\n",
    "                'xref': 'paper',\n",
    "                'yref': 'paper',\n",
    "                'x': 0.02,\n",
    "                'y': 0.98,\n",
    "                'xanchor': 'left',\n",
    "                'yanchor': 'top',\n",
    "                'showarrow': False,\n",
    "                'bgcolor': 'rgba(255,255,255,0.1)',\n",
    "                'bordercolor': 'white',\n",
    "                'borderwidth': 1,\n",
    "                'font': {'size': 14, 'color': 'white'}\n",
    "            }]\n",
    "        )\n",
    "\n",
    "fig12.show()"
   ]
  },
  {
   "cell_type": "code",
   "execution_count": null,
   "id": "ca7b19f4",
   "metadata": {},
   "outputs": [],
   "source": [
    "# distr de tsunamis por año\n",
    "px.histogram(\n",
    "    df[df['tsunami'] == 1],\n",
    "    x='Year',\n",
    "    nbins=22,\n",
    "    title='🌊 Distribución Anual de Tsunamis (2001-2022)',\n",
    "    labels={'Year': 'Año', 'count': 'Número de Tsunamis'},\n",
    "    color_discrete_sequence=['red']\n",
    ").update_layout(\n",
    "    paper_bgcolor='black',\n",
    "    plot_bgcolor='black',\n",
    "    font=dict(color='white', size=12),\n",
    "    height=600,\n",
    "    width=900\n",
    ").show()"
   ]
  }
 ],
 "metadata": {
  "kernelspec": {
   "display_name": "py313",
   "language": "python",
   "name": "python3"
  },
  "language_info": {
   "codemirror_mode": {
    "name": "ipython",
    "version": 3
   },
   "file_extension": ".py",
   "mimetype": "text/x-python",
   "name": "python",
   "nbconvert_exporter": "python",
   "pygments_lexer": "ipython3",
   "version": "3.13.8"
  }
 },
 "nbformat": 4,
 "nbformat_minor": 5
}
